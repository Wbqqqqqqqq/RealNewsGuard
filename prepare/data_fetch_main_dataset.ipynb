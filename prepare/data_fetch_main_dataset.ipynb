{
 "cells": [
  {
   "cell_type": "markdown",
   "metadata": {},
   "source": [
    "# Real News Collection"
   ]
  },
  {
   "cell_type": "code",
   "execution_count": null,
   "metadata": {
    "execution": {
     "iopub.execute_input": "2025-02-02T05:42:47.324821Z",
     "iopub.status.busy": "2025-02-02T05:42:47.324464Z",
     "iopub.status.idle": "2025-02-02T05:42:47.849171Z",
     "shell.execute_reply": "2025-02-02T05:42:47.848116Z",
     "shell.execute_reply.started": "2025-02-02T05:42:47.324792Z"
    },
    "trusted": true
   },
   "outputs": [],
   "source": [
    "import requests\n",
    "import csv\n",
    "import time\n",
    "import numpy as np\n",
    "import pandas as pd\n",
    "\n",
    "# a71a3a15-ba85-407b-a8d5-cd6deccbe7fe\n",
    "# \"49bc4923-5543-4f48-975c-48c6336fd8d0\"\n",
    "API_KEY = \"a71a3a15-ba85-407b-a8d5-cd6deccbe7fe\"\n",
    "BASE_URL = \"https://content.guardianapis.com/search\""
   ]
  },
  {
   "cell_type": "markdown",
   "metadata": {},
   "source": [
    "## API Check"
   ]
  },
  {
   "cell_type": "code",
   "execution_count": null,
   "metadata": {
    "_cell_guid": "b1076dfc-b9ad-4769-8c92-a6c4dae69d19",
    "_uuid": "8f2839f25d086af736a60e9eeb907d3b93b6e0e5",
    "execution": {
     "iopub.execute_input": "2025-02-02T05:42:47.852036Z",
     "iopub.status.busy": "2025-02-02T05:42:47.851553Z",
     "iopub.status.idle": "2025-02-02T05:42:47.858646Z",
     "shell.execute_reply": "2025-02-02T05:42:47.857422Z",
     "shell.execute_reply.started": "2025-02-02T05:42:47.852006Z"
    },
    "trusted": true
   },
   "outputs": [],
   "source": [
    "def fetch_guardian_articles(page=1, section=\"business\"):\n",
    "    \"\"\"\n",
    "    Fetches articles from the Guardian API for a specific section and page.\n",
    "    \n",
    "    Args:\n",
    "        page (int): The page number to fetch.\n",
    "        section (str): The section to fetch articles from (default is \"business\").\n",
    "    \n",
    "    Returns:\n",
    "        dict: API response containing articles, or None if an error occurs.\n",
    "    \"\"\"\n",
    "    params = {\n",
    "        \"section\": section,\n",
    "        \"api-key\": API_KEY,\n",
    "        \"page\": page,\n",
    "    }\n",
    "\n",
    "    try:\n",
    "        response = requests.get(BASE_URL, params=params)\n",
    "        response.raise_for_status()  # Automatically handle HTTP errors\n",
    "        data = response.json()\n",
    "        \n",
    "        if data[\"response\"][\"status\"] != \"ok\":\n",
    "            print(f\"API returned an error: {data.get('message', 'Unknown error')}\")\n",
    "            return None\n",
    "            \n",
    "        return data[\"response\"]\n",
    "\n",
    "    except requests.exceptions.RequestException as e:\n",
    "        print(f\"Request failed: {str(e)}\")\n",
    "        return None\n",
    "    except ValueError as e:\n",
    "        print(f\"JSON parsing failed: {str(e)}\")\n",
    "        return None"
   ]
  },
  {
   "cell_type": "code",
   "execution_count": null,
   "metadata": {
    "execution": {
     "iopub.execute_input": "2025-02-02T05:42:47.860653Z",
     "iopub.status.busy": "2025-02-02T05:42:47.860276Z",
     "iopub.status.idle": "2025-02-02T05:42:48.376048Z",
     "shell.execute_reply": "2025-02-02T05:42:48.375019Z",
     "shell.execute_reply.started": "2025-02-02T05:42:47.860611Z"
    },
    "trusted": true
   },
   "outputs": [],
   "source": [
    "response = fetch_guardian_articles(page=1, section=\"business\")"
   ]
  },
  {
   "cell_type": "code",
   "execution_count": null,
   "metadata": {
    "execution": {
     "iopub.execute_input": "2025-02-02T05:42:48.377723Z",
     "iopub.status.busy": "2025-02-02T05:42:48.377367Z",
     "iopub.status.idle": "2025-02-02T05:42:48.393066Z",
     "shell.execute_reply": "2025-02-02T05:42:48.388091Z",
     "shell.execute_reply.started": "2025-02-02T05:42:48.377686Z"
    },
    "trusted": true
   },
   "outputs": [],
   "source": [
    "for i in range(response['pageSize']):\n",
    "    print(\"id: \", response['results'][i]['id'])\n",
    "    print(\"Title: \", response['results'][i]['webTitle'])\n",
    "    print(\"url: \", response['results'][i]['webUrl'])\n",
    "    print(\"------\")"
   ]
  },
  {
   "cell_type": "markdown",
   "metadata": {},
   "source": [
    "## Text Clean"
   ]
  },
  {
   "cell_type": "code",
   "execution_count": null,
   "metadata": {
    "execution": {
     "iopub.execute_input": "2025-02-02T05:42:48.395457Z",
     "iopub.status.busy": "2025-02-02T05:42:48.395047Z",
     "iopub.status.idle": "2025-02-02T05:43:15.641169Z",
     "shell.execute_reply": "2025-02-02T05:43:15.639705Z",
     "shell.execute_reply.started": "2025-02-02T05:42:48.395416Z"
    },
    "trusted": true
   },
   "outputs": [],
   "source": [
    "!pip install news-please"
   ]
  },
  {
   "cell_type": "code",
   "execution_count": null,
   "metadata": {
    "execution": {
     "iopub.execute_input": "2025-02-02T05:43:15.643098Z",
     "iopub.status.busy": "2025-02-02T05:43:15.642658Z",
     "iopub.status.idle": "2025-02-02T05:43:19.254435Z",
     "shell.execute_reply": "2025-02-02T05:43:19.253491Z",
     "shell.execute_reply.started": "2025-02-02T05:43:15.643056Z"
    },
    "trusted": true
   },
   "outputs": [],
   "source": [
    "from newsplease import NewsPlease\n",
    "article = NewsPlease.from_url('https://www.theguardian.com/business/2025/jan/31/openai-to-release-new-artificial-intelligence-model-for-free')\n",
    "print(article.maintext)"
   ]
  },
  {
   "cell_type": "markdown",
   "metadata": {},
   "source": [
    "## Collection"
   ]
  },
  {
   "cell_type": "code",
   "execution_count": null,
   "metadata": {
    "execution": {
     "iopub.execute_input": "2025-02-02T05:43:19.255794Z",
     "iopub.status.busy": "2025-02-02T05:43:19.255395Z",
     "iopub.status.idle": "2025-02-02T05:43:19.263249Z",
     "shell.execute_reply": "2025-02-02T05:43:19.262134Z",
     "shell.execute_reply.started": "2025-02-02T05:43:19.255754Z"
    },
    "trusted": true
   },
   "outputs": [],
   "source": [
    "def news_scratch(section_name, total_len, passage):\n",
    "    current_news = 0\n",
    "    current_page = 1\n",
    "    total_pages = 10\n",
    "    \n",
    "    while current_page <= total_pages and current_news < total_len:\n",
    "        if current_page % 10 == 0:\n",
    "            print(f\"Fetching page {current_page}...\")\n",
    "        response = fetch_guardian_articles(page=current_page, section=section_name)\n",
    "        \n",
    "        for i in range(response['pageSize']):\n",
    "            passage[\"id\"].append(current_news)\n",
    "            passage[\"passage_id\"].append(response['results'][i]['id'])\n",
    "            passage[\"title\"].append(response['results'][i]['webTitle'])\n",
    "            passage[\"url\"].append(response['results'][i]['webUrl'])\n",
    "            passage[\"section\"].append(section_name)\n",
    "            passage[\"label\"].append(0)\n",
    "            \n",
    "            article = NewsPlease.from_url(response['results'][i]['webUrl'])\n",
    "            passage[\"content\"].append(article.maintext)\n",
    "            \n",
    "            # print(\"id: \", response['results'][i]['id'])\n",
    "            # print(\"Title: \", response['results'][i]['webTitle'])\n",
    "            # print(\"url: \", response['results'][i]['apiUrl'])\n",
    "            # print(\"------\")\n",
    "            \n",
    "            current_news += 1\n",
    "        \n",
    "        if not response:\n",
    "            print(f\"ERROR: Unable to Fetch page {current_page}!!\")\n",
    "            \n",
    "        # Update total pages (API defaults to a maximum of 200 pages)\n",
    "        total_pages = min(response.get(\"pages\", 1), 10000)\n",
    "        \n",
    "        time.sleep(0.2)  \n",
    "        current_page += 1\n",
    "    return "
   ]
  },
  {
   "cell_type": "code",
   "execution_count": null,
   "metadata": {
    "execution": {
     "iopub.execute_input": "2025-02-02T05:43:19.264892Z",
     "iopub.status.busy": "2025-02-02T05:43:19.264492Z",
     "iopub.status.idle": "2025-02-02T05:43:19.299249Z",
     "shell.execute_reply": "2025-02-02T05:43:19.297985Z",
     "shell.execute_reply.started": "2025-02-02T05:43:19.264840Z"
    },
    "trusted": true
   },
   "outputs": [],
   "source": [
    "passage = {\n",
    "        \"id\": [],\n",
    "        \"passage_id\": [],\n",
    "        \"title\": [],\n",
    "        \"content\": [], \n",
    "        \"url\": [],\n",
    "        \"section\": [], \n",
    "        \"label\": [], \n",
    "    }\n",
    "\n",
    "train_sections = [\"education\", \"society\", \"sport\", \"environment\"]\n",
    "test_sections = [\"technology\", \"artanddesign\", \"business\", \"politics\"]\n",
    "# train_total_len = [5900, 8300, 18900, 5800]\n",
    "train_total_len = [800, 1100, 2400, 800]\n",
    "# test_total_len = [1160, 600, 3100, 2400]\n",
    "test_total_len = [200, 100, 450, 350]"
   ]
  },
  {
   "cell_type": "code",
   "execution_count": null,
   "metadata": {
    "execution": {
     "iopub.execute_input": "2025-02-02T05:43:19.300782Z",
     "iopub.status.busy": "2025-02-02T05:43:19.300363Z",
     "iopub.status.idle": "2025-02-02T05:46:53.149671Z",
     "shell.execute_reply": "2025-02-02T05:46:53.148174Z",
     "shell.execute_reply.started": "2025-02-02T05:43:19.300715Z"
    },
    "trusted": true
   },
   "outputs": [],
   "source": [
    "for sec, total_len in zip(train_sections, train_total_len):\n",
    "    news_scratch(sec, total_len, passage)\n",
    "    print(f\"\\nSection {sec} finished! \\n\")"
   ]
  },
  {
   "cell_type": "code",
   "execution_count": null,
   "metadata": {
    "execution": {
     "iopub.status.busy": "2025-02-02T05:46:53.150384Z",
     "iopub.status.idle": "2025-02-02T05:46:53.150720Z",
     "shell.execute_reply": "2025-02-02T05:46:53.150588Z"
    },
    "trusted": true
   },
   "outputs": [],
   "source": [
    "train_passage_df = pd.DataFrame(passage)\n",
    "display(train_passage_df)"
   ]
  },
  {
   "cell_type": "code",
   "execution_count": null,
   "metadata": {
    "execution": {
     "iopub.status.busy": "2025-02-02T05:46:53.154407Z",
     "iopub.status.idle": "2025-02-02T05:46:53.154795Z",
     "shell.execute_reply": "2025-02-02T05:46:53.154610Z"
    },
    "trusted": true
   },
   "outputs": [],
   "source": [
    "train_passage_df.to_csv(\"train_news_df.csv\")"
   ]
  },
  {
   "cell_type": "code",
   "execution_count": null,
   "metadata": {
    "execution": {
     "iopub.execute_input": "2025-02-01T21:51:56.374462Z",
     "iopub.status.busy": "2025-02-01T21:51:56.374115Z",
     "iopub.status.idle": "2025-02-01T21:51:56.378702Z",
     "shell.execute_reply": "2025-02-01T21:51:56.377506Z",
     "shell.execute_reply.started": "2025-02-01T21:51:56.374436Z"
    },
    "trusted": true
   },
   "outputs": [],
   "source": [
    "# import gc\n",
    "\n",
    "# # To Save RAM\n",
    "# del passage, train_passage_df\n",
    "# _ = gc.collect()"
   ]
  },
  {
   "cell_type": "code",
   "execution_count": null,
   "metadata": {
    "execution": {
     "iopub.execute_input": "2025-02-01T22:18:02.363161Z",
     "iopub.status.busy": "2025-02-01T22:18:02.362761Z",
     "iopub.status.idle": "2025-02-01T22:33:16.210347Z",
     "shell.execute_reply": "2025-02-01T22:33:16.209156Z",
     "shell.execute_reply.started": "2025-02-01T22:18:02.363130Z"
    },
    "trusted": true
   },
   "outputs": [],
   "source": [
    "passage = {\n",
    "        \"id\": [],\n",
    "        \"passage_id\": [],\n",
    "        \"title\": [],\n",
    "        \"content\": [], \n",
    "        \"url\": [],\n",
    "        \"section\": [], \n",
    "        \"label\": [], \n",
    "    }\n",
    "\n",
    "for sec, total_len in zip(test_sections, test_total_len):\n",
    "    news_scratch(sec, total_len, passage)\n",
    "    print(f\"\\nSection {sec} finished! \\n\")"
   ]
  },
  {
   "cell_type": "code",
   "execution_count": null,
   "metadata": {
    "execution": {
     "iopub.execute_input": "2025-02-01T22:33:16.211878Z",
     "iopub.status.busy": "2025-02-01T22:33:16.211601Z",
     "iopub.status.idle": "2025-02-01T22:33:16.229540Z",
     "shell.execute_reply": "2025-02-01T22:33:16.228251Z",
     "shell.execute_reply.started": "2025-02-01T22:33:16.211852Z"
    },
    "trusted": true
   },
   "outputs": [],
   "source": [
    "test_passage_df = pd.DataFrame(passage)\n",
    "display(test_passage_df)"
   ]
  },
  {
   "cell_type": "code",
   "execution_count": null,
   "metadata": {
    "execution": {
     "iopub.execute_input": "2025-02-01T22:33:16.231605Z",
     "iopub.status.busy": "2025-02-01T22:33:16.231278Z",
     "iopub.status.idle": "2025-02-01T22:33:16.414814Z",
     "shell.execute_reply": "2025-02-01T22:33:16.413560Z",
     "shell.execute_reply.started": "2025-02-01T22:33:16.231561Z"
    },
    "trusted": true
   },
   "outputs": [],
   "source": [
    "test_passage_df.to_csv(\"test_news_df.csv\")"
   ]
  },
  {
   "cell_type": "markdown",
   "metadata": {},
   "source": [
    "## EDA"
   ]
  },
  {
   "cell_type": "code",
   "execution_count": null,
   "metadata": {
    "execution": {
     "iopub.execute_input": "2025-02-01T23:05:06.412558Z",
     "iopub.status.busy": "2025-02-01T23:05:06.412217Z",
     "iopub.status.idle": "2025-02-01T23:05:06.425819Z",
     "shell.execute_reply": "2025-02-01T23:05:06.424047Z",
     "shell.execute_reply.started": "2025-02-01T23:05:06.412522Z"
    },
    "trusted": true
   },
   "outputs": [],
   "source": [
    "train_passage_df = pd.read_csv(\"/kaggle/working/train_news_df.csv\")\n",
    "print(\"train_size: \", train_passage_df.shape)"
   ]
  },
  {
   "cell_type": "code",
   "execution_count": null,
   "metadata": {
    "execution": {
     "iopub.execute_input": "2025-02-01T22:48:03.888640Z",
     "iopub.status.busy": "2025-02-01T22:48:03.888288Z",
     "iopub.status.idle": "2025-02-01T22:48:03.980549Z",
     "shell.execute_reply": "2025-02-01T22:48:03.979459Z",
     "shell.execute_reply.started": "2025-02-01T22:48:03.888613Z"
    },
    "trusted": true
   },
   "outputs": [],
   "source": [
    "test_passage_df = pd.read_csv(\"/kaggle/working/test_news_df.csv\")\n",
    "print(\"test_size: \", test_passage_df.shape)"
   ]
  },
  {
   "cell_type": "markdown",
   "metadata": {},
   "source": [
    "### Remove `\\n`"
   ]
  },
  {
   "cell_type": "code",
   "execution_count": null,
   "metadata": {
    "execution": {
     "iopub.execute_input": "2025-02-01T22:48:05.349794Z",
     "iopub.status.busy": "2025-02-01T22:48:05.349432Z",
     "iopub.status.idle": "2025-02-01T22:48:05.386152Z",
     "shell.execute_reply": "2025-02-01T22:48:05.385034Z",
     "shell.execute_reply.started": "2025-02-01T22:48:05.349760Z"
    },
    "trusted": true
   },
   "outputs": [],
   "source": [
    "train_passage_df[\"content\"] = train_passage_df[\"content\"].str.replace(\"\\n\", \" \", regex=False)\n",
    "test_passage_df[\"content\"] = test_passage_df[\"content\"].str.replace(\"\\n\", \" \", regex=False)\n",
    "print(train_passage_df[\"content\"][0])"
   ]
  },
  {
   "cell_type": "markdown",
   "metadata": {},
   "source": [
    "### Word Count"
   ]
  },
  {
   "cell_type": "code",
   "execution_count": null,
   "metadata": {
    "execution": {
     "iopub.execute_input": "2025-02-01T22:48:08.846720Z",
     "iopub.status.busy": "2025-02-01T22:48:08.846365Z",
     "iopub.status.idle": "2025-02-01T22:48:09.398532Z",
     "shell.execute_reply": "2025-02-01T22:48:09.397324Z",
     "shell.execute_reply.started": "2025-02-01T22:48:08.846689Z"
    },
    "trusted": true
   },
   "outputs": [],
   "source": [
    "train_passage_df[\"word_count\"] = train_passage_df[\"content\"].str.split().str.len()\n",
    "print(\"average word count: \", train_passage_df[\"word_count\"].mean())"
   ]
  },
  {
   "cell_type": "code",
   "execution_count": null,
   "metadata": {
    "execution": {
     "iopub.execute_input": "2025-02-01T22:48:11.373430Z",
     "iopub.status.busy": "2025-02-01T22:48:11.373103Z",
     "iopub.status.idle": "2025-02-01T22:48:11.599820Z",
     "shell.execute_reply": "2025-02-01T22:48:11.598704Z",
     "shell.execute_reply.started": "2025-02-01T22:48:11.373403Z"
    },
    "trusted": true
   },
   "outputs": [],
   "source": [
    "test_passage_df[\"word_count\"] = test_passage_df[\"content\"].str.split().str.len()\n",
    "print(\"average word count: \", test_passage_df[\"word_count\"].mean())"
   ]
  },
  {
   "cell_type": "markdown",
   "metadata": {},
   "source": [
    "### Basic Check"
   ]
  },
  {
   "cell_type": "code",
   "execution_count": null,
   "metadata": {
    "execution": {
     "iopub.execute_input": "2025-02-01T22:48:13.422056Z",
     "iopub.status.busy": "2025-02-01T22:48:13.421656Z",
     "iopub.status.idle": "2025-02-01T22:48:13.459827Z",
     "shell.execute_reply": "2025-02-01T22:48:13.458440Z",
     "shell.execute_reply.started": "2025-02-01T22:48:13.422023Z"
    },
    "trusted": true
   },
   "outputs": [],
   "source": [
    "print(train_passage_df[\"content\"].nunique())"
   ]
  },
  {
   "cell_type": "markdown",
   "metadata": {},
   "source": [
    "### Save"
   ]
  },
  {
   "cell_type": "code",
   "execution_count": null,
   "metadata": {
    "execution": {
     "iopub.execute_input": "2025-02-01T22:48:14.724430Z",
     "iopub.status.busy": "2025-02-01T22:48:14.724074Z",
     "iopub.status.idle": "2025-02-01T22:48:15.551469Z",
     "shell.execute_reply": "2025-02-01T22:48:15.550404Z",
     "shell.execute_reply.started": "2025-02-01T22:48:14.724399Z"
    },
    "trusted": true
   },
   "outputs": [],
   "source": [
    "train_passage_df.to_csv(\"train_news_real_df.csv\")\n",
    "test_passage_df.to_csv(\"test_news_real_df.csv\")"
   ]
  }
 ],
 "metadata": {
  "kaggle": {
   "accelerator": "none",
   "dataSources": [],
   "dockerImageVersionId": 30839,
   "isGpuEnabled": false,
   "isInternetEnabled": true,
   "language": "python",
   "sourceType": "notebook"
  },
  "kernelspec": {
   "display_name": "Python 3",
   "language": "python",
   "name": "python3"
  },
  "language_info": {
   "codemirror_mode": {
    "name": "ipython",
    "version": 3
   },
   "file_extension": ".py",
   "mimetype": "text/x-python",
   "name": "python",
   "nbconvert_exporter": "python",
   "pygments_lexer": "ipython3",
   "version": "3.10.12"
  }
 },
 "nbformat": 4,
 "nbformat_minor": 4
}
